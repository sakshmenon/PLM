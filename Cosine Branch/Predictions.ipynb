{
 "cells": [
  {
   "cell_type": "code",
   "execution_count": 2,
   "metadata": {},
   "outputs": [],
   "source": [
    "import pandas as pd\n",
    "from sklearn.model_selection import train_test_split\n",
    "import matplotlib.pyplot as plt\n",
    "import numpy as np\n",
    "\n",
    "DATASET_RATIO = 0.57 #pos:neg\n",
    "flank = 7\n",
    "\n",
    "csv_dataset = '/Users/sakshmenon/Desktop/PLM CSV/Window_Vectors_Saksh_Menon_' + str(flank) + '_.csv'\n",
    "dataset = pd.read_csv(csv_dataset)\n",
    "# concentrated_dataset = dataset[dataset['Origin Mutation'] == dataset['AA-Position-AA']]\n",
    "# concentrated_dataset.head()"
   ]
  },
  {
   "cell_type": "code",
   "execution_count": 3,
   "metadata": {},
   "outputs": [
    {
     "data": {
      "text/plain": [
       "(2593, 18)"
      ]
     },
     "execution_count": 3,
     "metadata": {},
     "output_type": "execute_result"
    }
   ],
   "source": [
    "dataset.shape"
   ]
  },
  {
   "cell_type": "code",
   "execution_count": 4,
   "metadata": {},
   "outputs": [
    {
     "data": {
      "text/plain": [
       "'\\n- plots of variant only vs label,\\n- try one of these models:\\n- SVM(RBF)\\n- XGBoost\\n- Ridge\\n- LASSO\\n'"
      ]
     },
     "execution_count": 4,
     "metadata": {},
     "output_type": "execute_result"
    }
   ],
   "source": [
    "\"\"\"\n",
    "- plots of variant only vs label,\n",
    "- try one of these models:\n",
    "- SVM(RBF)\n",
    "- XGBoost\n",
    "- Ridge\n",
    "- LASSO\n",
    "\"\"\""
   ]
  },
  {
   "cell_type": "markdown",
   "metadata": {},
   "source": [
    "#### Training Testing Vector Initializing\n",
    "Without Data Redistributing"
   ]
  },
  {
   "cell_type": "code",
   "execution_count": 14,
   "metadata": {},
   "outputs": [],
   "source": [
    "from sklearn.model_selection import train_test_split\n",
    "from sklearn.metrics import accuracy_score, matthews_corrcoef\n",
    "\n",
    "columns = ['v'+ str(i+1) for i in range(2*flank + 1)]\n",
    "\n",
    "X = dataset[columns]\n",
    "Y = dataset['Label']\n",
    "test_vector_size = 0.35\n",
    "\n",
    "X_train, X_test, Y_train, Y_test = train_test_split(X, Y, test_size = test_vector_size, random_state = 32)"
   ]
  },
  {
   "cell_type": "code",
   "execution_count": 8,
   "metadata": {},
   "outputs": [
    {
     "data": {
      "text/html": [
       "<div>\n",
       "<style scoped>\n",
       "    .dataframe tbody tr th:only-of-type {\n",
       "        vertical-align: middle;\n",
       "    }\n",
       "\n",
       "    .dataframe tbody tr th {\n",
       "        vertical-align: top;\n",
       "    }\n",
       "\n",
       "    .dataframe thead th {\n",
       "        text-align: right;\n",
       "    }\n",
       "</style>\n",
       "<table border=\"1\" class=\"dataframe\">\n",
       "  <thead>\n",
       "    <tr style=\"text-align: right;\">\n",
       "      <th></th>\n",
       "      <th>v1</th>\n",
       "      <th>v2</th>\n",
       "      <th>v3</th>\n",
       "      <th>v4</th>\n",
       "      <th>v5</th>\n",
       "      <th>v6</th>\n",
       "      <th>v7</th>\n",
       "      <th>v8</th>\n",
       "      <th>v9</th>\n",
       "      <th>v10</th>\n",
       "      <th>v11</th>\n",
       "      <th>v12</th>\n",
       "      <th>v13</th>\n",
       "      <th>v14</th>\n",
       "      <th>v15</th>\n",
       "    </tr>\n",
       "  </thead>\n",
       "  <tbody>\n",
       "    <tr>\n",
       "      <th>1125</th>\n",
       "      <td>0.982895</td>\n",
       "      <td>0.981414</td>\n",
       "      <td>0.971529</td>\n",
       "      <td>0.970951</td>\n",
       "      <td>0.942771</td>\n",
       "      <td>0.936789</td>\n",
       "      <td>0.897525</td>\n",
       "      <td>0.559906</td>\n",
       "      <td>0.962007</td>\n",
       "      <td>0.951521</td>\n",
       "      <td>0.977975</td>\n",
       "      <td>0.976212</td>\n",
       "      <td>0.994665</td>\n",
       "      <td>0.993272</td>\n",
       "      <td>0.996066</td>\n",
       "    </tr>\n",
       "    <tr>\n",
       "      <th>1639</th>\n",
       "      <td>0.998957</td>\n",
       "      <td>0.999047</td>\n",
       "      <td>0.998711</td>\n",
       "      <td>0.997811</td>\n",
       "      <td>0.999135</td>\n",
       "      <td>0.989996</td>\n",
       "      <td>0.985341</td>\n",
       "      <td>0.709700</td>\n",
       "      <td>0.990824</td>\n",
       "      <td>0.997588</td>\n",
       "      <td>0.998412</td>\n",
       "      <td>0.991872</td>\n",
       "      <td>0.999103</td>\n",
       "      <td>0.999662</td>\n",
       "      <td>0.999600</td>\n",
       "    </tr>\n",
       "    <tr>\n",
       "      <th>238</th>\n",
       "      <td>0.979761</td>\n",
       "      <td>0.985617</td>\n",
       "      <td>0.946183</td>\n",
       "      <td>0.923728</td>\n",
       "      <td>0.914706</td>\n",
       "      <td>0.942265</td>\n",
       "      <td>0.940043</td>\n",
       "      <td>0.635122</td>\n",
       "      <td>0.984057</td>\n",
       "      <td>0.991915</td>\n",
       "      <td>0.992744</td>\n",
       "      <td>0.981060</td>\n",
       "      <td>0.997056</td>\n",
       "      <td>0.998190</td>\n",
       "      <td>0.998428</td>\n",
       "    </tr>\n",
       "    <tr>\n",
       "      <th>2320</th>\n",
       "      <td>0.997389</td>\n",
       "      <td>0.997913</td>\n",
       "      <td>0.998015</td>\n",
       "      <td>0.990282</td>\n",
       "      <td>0.984525</td>\n",
       "      <td>0.986418</td>\n",
       "      <td>0.952199</td>\n",
       "      <td>0.653045</td>\n",
       "      <td>0.966674</td>\n",
       "      <td>0.991433</td>\n",
       "      <td>0.994393</td>\n",
       "      <td>0.990973</td>\n",
       "      <td>0.998776</td>\n",
       "      <td>0.999295</td>\n",
       "      <td>0.999666</td>\n",
       "    </tr>\n",
       "    <tr>\n",
       "      <th>521</th>\n",
       "      <td>0.997660</td>\n",
       "      <td>0.997274</td>\n",
       "      <td>0.997821</td>\n",
       "      <td>0.980799</td>\n",
       "      <td>0.970569</td>\n",
       "      <td>0.978267</td>\n",
       "      <td>0.962931</td>\n",
       "      <td>0.656103</td>\n",
       "      <td>0.989807</td>\n",
       "      <td>0.994802</td>\n",
       "      <td>0.994324</td>\n",
       "      <td>0.980748</td>\n",
       "      <td>0.998694</td>\n",
       "      <td>0.999599</td>\n",
       "      <td>0.999340</td>\n",
       "    </tr>\n",
       "    <tr>\n",
       "      <th>...</th>\n",
       "      <td>...</td>\n",
       "      <td>...</td>\n",
       "      <td>...</td>\n",
       "      <td>...</td>\n",
       "      <td>...</td>\n",
       "      <td>...</td>\n",
       "      <td>...</td>\n",
       "      <td>...</td>\n",
       "      <td>...</td>\n",
       "      <td>...</td>\n",
       "      <td>...</td>\n",
       "      <td>...</td>\n",
       "      <td>...</td>\n",
       "      <td>...</td>\n",
       "      <td>...</td>\n",
       "    </tr>\n",
       "    <tr>\n",
       "      <th>544</th>\n",
       "      <td>0.952779</td>\n",
       "      <td>0.953886</td>\n",
       "      <td>0.951860</td>\n",
       "      <td>0.927010</td>\n",
       "      <td>0.874888</td>\n",
       "      <td>0.878694</td>\n",
       "      <td>0.893192</td>\n",
       "      <td>0.405231</td>\n",
       "      <td>0.906379</td>\n",
       "      <td>0.934450</td>\n",
       "      <td>0.952710</td>\n",
       "      <td>0.951388</td>\n",
       "      <td>0.963144</td>\n",
       "      <td>0.983271</td>\n",
       "      <td>0.978016</td>\n",
       "    </tr>\n",
       "    <tr>\n",
       "      <th>442</th>\n",
       "      <td>0.999143</td>\n",
       "      <td>0.999189</td>\n",
       "      <td>0.999444</td>\n",
       "      <td>0.997278</td>\n",
       "      <td>0.988506</td>\n",
       "      <td>0.995558</td>\n",
       "      <td>0.984886</td>\n",
       "      <td>0.728984</td>\n",
       "      <td>0.992777</td>\n",
       "      <td>0.998902</td>\n",
       "      <td>0.999077</td>\n",
       "      <td>0.994786</td>\n",
       "      <td>0.999636</td>\n",
       "      <td>0.999850</td>\n",
       "      <td>0.999879</td>\n",
       "    </tr>\n",
       "    <tr>\n",
       "      <th>1058</th>\n",
       "      <td>0.995150</td>\n",
       "      <td>0.997156</td>\n",
       "      <td>0.991131</td>\n",
       "      <td>0.985053</td>\n",
       "      <td>0.970893</td>\n",
       "      <td>0.974279</td>\n",
       "      <td>0.949940</td>\n",
       "      <td>0.568024</td>\n",
       "      <td>0.973551</td>\n",
       "      <td>0.988621</td>\n",
       "      <td>0.987444</td>\n",
       "      <td>0.981002</td>\n",
       "      <td>0.996623</td>\n",
       "      <td>0.997787</td>\n",
       "      <td>0.998597</td>\n",
       "    </tr>\n",
       "    <tr>\n",
       "      <th>188</th>\n",
       "      <td>0.997846</td>\n",
       "      <td>0.998095</td>\n",
       "      <td>0.997874</td>\n",
       "      <td>0.993734</td>\n",
       "      <td>0.989003</td>\n",
       "      <td>0.979376</td>\n",
       "      <td>0.987107</td>\n",
       "      <td>0.850430</td>\n",
       "      <td>0.991333</td>\n",
       "      <td>0.996079</td>\n",
       "      <td>0.991324</td>\n",
       "      <td>0.995587</td>\n",
       "      <td>0.999372</td>\n",
       "      <td>0.999746</td>\n",
       "      <td>0.999766</td>\n",
       "    </tr>\n",
       "    <tr>\n",
       "      <th>1510</th>\n",
       "      <td>0.998141</td>\n",
       "      <td>0.997681</td>\n",
       "      <td>0.997985</td>\n",
       "      <td>0.991840</td>\n",
       "      <td>0.985407</td>\n",
       "      <td>0.988081</td>\n",
       "      <td>0.973267</td>\n",
       "      <td>0.866067</td>\n",
       "      <td>0.988005</td>\n",
       "      <td>0.995131</td>\n",
       "      <td>0.996034</td>\n",
       "      <td>0.995939</td>\n",
       "      <td>0.998570</td>\n",
       "      <td>0.999023</td>\n",
       "      <td>0.998818</td>\n",
       "    </tr>\n",
       "  </tbody>\n",
       "</table>\n",
       "<p>519 rows × 15 columns</p>\n",
       "</div>"
      ],
      "text/plain": [
       "            v1        v2        v3        v4        v5        v6        v7  \\\n",
       "1125  0.982895  0.981414  0.971529  0.970951  0.942771  0.936789  0.897525   \n",
       "1639  0.998957  0.999047  0.998711  0.997811  0.999135  0.989996  0.985341   \n",
       "238   0.979761  0.985617  0.946183  0.923728  0.914706  0.942265  0.940043   \n",
       "2320  0.997389  0.997913  0.998015  0.990282  0.984525  0.986418  0.952199   \n",
       "521   0.997660  0.997274  0.997821  0.980799  0.970569  0.978267  0.962931   \n",
       "...        ...       ...       ...       ...       ...       ...       ...   \n",
       "544   0.952779  0.953886  0.951860  0.927010  0.874888  0.878694  0.893192   \n",
       "442   0.999143  0.999189  0.999444  0.997278  0.988506  0.995558  0.984886   \n",
       "1058  0.995150  0.997156  0.991131  0.985053  0.970893  0.974279  0.949940   \n",
       "188   0.997846  0.998095  0.997874  0.993734  0.989003  0.979376  0.987107   \n",
       "1510  0.998141  0.997681  0.997985  0.991840  0.985407  0.988081  0.973267   \n",
       "\n",
       "            v8        v9       v10       v11       v12       v13       v14  \\\n",
       "1125  0.559906  0.962007  0.951521  0.977975  0.976212  0.994665  0.993272   \n",
       "1639  0.709700  0.990824  0.997588  0.998412  0.991872  0.999103  0.999662   \n",
       "238   0.635122  0.984057  0.991915  0.992744  0.981060  0.997056  0.998190   \n",
       "2320  0.653045  0.966674  0.991433  0.994393  0.990973  0.998776  0.999295   \n",
       "521   0.656103  0.989807  0.994802  0.994324  0.980748  0.998694  0.999599   \n",
       "...        ...       ...       ...       ...       ...       ...       ...   \n",
       "544   0.405231  0.906379  0.934450  0.952710  0.951388  0.963144  0.983271   \n",
       "442   0.728984  0.992777  0.998902  0.999077  0.994786  0.999636  0.999850   \n",
       "1058  0.568024  0.973551  0.988621  0.987444  0.981002  0.996623  0.997787   \n",
       "188   0.850430  0.991333  0.996079  0.991324  0.995587  0.999372  0.999746   \n",
       "1510  0.866067  0.988005  0.995131  0.996034  0.995939  0.998570  0.999023   \n",
       "\n",
       "           v15  \n",
       "1125  0.996066  \n",
       "1639  0.999600  \n",
       "238   0.998428  \n",
       "2320  0.999666  \n",
       "521   0.999340  \n",
       "...        ...  \n",
       "544   0.978016  \n",
       "442   0.999879  \n",
       "1058  0.998597  \n",
       "188   0.999766  \n",
       "1510  0.998818  \n",
       "\n",
       "[519 rows x 15 columns]"
      ]
     },
     "execution_count": 8,
     "metadata": {},
     "output_type": "execute_result"
    }
   ],
   "source": [
    "(X_test)"
   ]
  },
  {
   "cell_type": "markdown",
   "metadata": {},
   "source": [
    "\n",
    "## SVC Model Initializing"
   ]
  },
  {
   "cell_type": "code",
   "execution_count": 15,
   "metadata": {},
   "outputs": [
    {
     "name": "stdout",
     "output_type": "stream",
     "text": [
      "Rbf SVM - Training Accuracy: 0.64\n",
      "Rbf SVM - Test Accuracy: 0.64\n",
      "MCC for Test subset: 0.000\n"
     ]
    }
   ],
   "source": [
    "from sklearn.svm import SVC\n",
    "\n",
    "kernels = ['rbf']\n",
    "for kernel in kernels:\n",
    "    svm_model = SVC(kernel=kernel, probability=True, random_state=32)\n",
    "    svm_model.fit(X_train, Y_train)\n",
    "    \n",
    "    train_score = svm_model.score(X_train, Y_train)\n",
    "    test_score = svm_model.score(X_test, Y_test)\n",
    "    print(f'{kernel.capitalize()} SVM - Training Accuracy: {train_score:.2f}')\n",
    "    print(f'{kernel.capitalize()} SVM - Test Accuracy: {test_score:.2f}')\n",
    "    \n",
    "    Y_pred_test = svm_model.predict(X_test)\n",
    "    mcc = matthews_corrcoef(Y_test, Y_pred_test)\n",
    "    print(f\"MCC for Test subset: {mcc:.3f}\")\n",
    "\n"
   ]
  },
  {
   "cell_type": "markdown",
   "metadata": {},
   "source": [
    "\n",
    "## XGBoost Model Initializing"
   ]
  },
  {
   "cell_type": "code",
   "execution_count": 16,
   "metadata": {},
   "outputs": [
    {
     "name": "stdout",
     "output_type": "stream",
     "text": [
      "XGBoost Random Forest - Training Accuracy: 0.75\n",
      "XGBoost Random Forest - Test Accuracy: 0.62\n",
      "XGBoost Random Forest - MCC: 0.036\n",
      "\n",
      "Hyperparameters used in the XGBoost Random Forest model:\n",
      "colsample_bynode: 0.8\n",
      "learning_rate: 1.0\n",
      "reg_lambda: 1e-05\n",
      "subsample: 0.8\n",
      "objective: binary:logistic\n",
      "enable_categorical: False\n",
      "missing: nan\n",
      "random_state: 32\n"
     ]
    }
   ],
   "source": [
    "import xgboost as xgb\n",
    "\n",
    "xgb_model = xgb.XGBRFClassifier(random_state=32)\n",
    "xgb_model.fit(X_train, Y_train)\n",
    "\n",
    "train_score = xgb_model.score(X_train, Y_train)\n",
    "test_score = xgb_model.score(X_test, Y_test)\n",
    "print(f'XGBoost Random Forest - Training Accuracy: {train_score:.2f}')\n",
    "print(f'XGBoost Random Forest - Test Accuracy: {test_score:.2f}')\n",
    "\n",
    "Y_pred_test = xgb_model.predict(X_test)\n",
    "mcc = matthews_corrcoef(Y_test, Y_pred_test)\n",
    "print(f\"XGBoost Random Forest - MCC: {mcc:.3f}\")\n",
    "\n",
    "print(\"\\nHyperparameters used in the XGBoost Random Forest model:\")\n",
    "for param, value in xgb_model.get_params().items():\n",
    "    if value is not None:\n",
    "        print(f'{param}: {value}')\n",
    "    "
   ]
  },
  {
   "cell_type": "markdown",
   "metadata": {},
   "source": [
    "\n",
    "## Ridge Model Initializing"
   ]
  },
  {
   "cell_type": "code",
   "execution_count": 17,
   "metadata": {},
   "outputs": [
    {
     "name": "stdout",
     "output_type": "stream",
     "text": [
      "Ridge Regression - Training Accuracy: 0.64\n",
      "Ridge Regression - Test Accuracy: 0.64\n",
      "Ridge Regression - MCC: 0.000\n"
     ]
    }
   ],
   "source": [
    "from sklearn.linear_model import RidgeClassifier\n",
    "# Initialize the Ridge classifier\n",
    "ridge_model = RidgeClassifier(random_state=123)\n",
    "\n",
    "# Train the Ridge model\n",
    "ridge_model.fit(X_train, Y_train)\n",
    "\n",
    "# Evaluate the model\n",
    "train_score = ridge_model.score(X_train, Y_train)\n",
    "test_score = ridge_model.score(X_test, Y_test)\n",
    "print(f'Ridge Regression - Training Accuracy: {train_score:.2f}')\n",
    "print(f'Ridge Regression - Test Accuracy: {test_score:.2f}')\n",
    "\n",
    "# Calculate Matthews Correlation Coefficient (MCC)\n",
    "Y_pred_test = ridge_model.predict(X_test)\n",
    "mcc = matthews_corrcoef(Y_test, Y_pred_test)\n",
    "print(f\"Ridge Regression - MCC: {mcc:.3f}\")\n"
   ]
  },
  {
   "cell_type": "markdown",
   "metadata": {},
   "source": [
    "\n",
    "## Lasso Model Initializing"
   ]
  },
  {
   "cell_type": "code",
   "execution_count": 18,
   "metadata": {},
   "outputs": [
    {
     "name": "stdout",
     "output_type": "stream",
     "text": [
      "Lasso Regression - Training Accuracy: 0.64\n",
      "Lasso Regression - Test Accuracy: 0.64\n",
      "Lasso Regression - MCC: 0.000\n"
     ]
    }
   ],
   "source": [
    "from sklearn.linear_model import LogisticRegression\n",
    "lasso_model = LogisticRegression(penalty='l1', solver='liblinear', random_state=123)\n",
    "\n",
    "# Train the Lasso model\n",
    "lasso_model.fit(X_train, Y_train)\n",
    "\n",
    "# Evaluate the model\n",
    "train_score = lasso_model.score(X_train, Y_train)\n",
    "test_score = lasso_model.score(X_test, Y_test)\n",
    "print(f'Lasso Regression - Training Accuracy: {train_score:.2f}')\n",
    "print(f'Lasso Regression - Test Accuracy: {test_score:.2f}')\n",
    "\n",
    "# Calculate Matthews Correlation Coefficient (MCC)\n",
    "Y_pred_test = lasso_model.predict(X_test)\n",
    "mcc = matthews_corrcoef(Y_test, Y_pred_test)\n",
    "print(f\"Lasso Regression - MCC: {mcc:.3f}\")\n"
   ]
  },
  {
   "cell_type": "code",
   "execution_count": 13,
   "metadata": {},
   "outputs": [
    {
     "data": {
      "text/plain": [
       "((2074, 3), (2074,))"
      ]
     },
     "execution_count": 13,
     "metadata": {},
     "output_type": "execute_result"
    }
   ],
   "source": [
    "X_train.shape, Y_train.shape"
   ]
  }
 ],
 "metadata": {
  "kernelspec": {
   "display_name": "Python 3",
   "language": "python",
   "name": "python3"
  },
  "language_info": {
   "codemirror_mode": {
    "name": "ipython",
    "version": 3
   },
   "file_extension": ".py",
   "mimetype": "text/x-python",
   "name": "python",
   "nbconvert_exporter": "python",
   "pygments_lexer": "ipython3",
   "version": "3.11.9"
  }
 },
 "nbformat": 4,
 "nbformat_minor": 2
}
