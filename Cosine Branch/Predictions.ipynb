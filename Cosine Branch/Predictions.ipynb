{
 "cells": [
  {
   "cell_type": "code",
   "execution_count": 29,
   "metadata": {},
   "outputs": [],
   "source": [
    "import pandas as pd\n",
    "from sklearn.model_selection import train_test_split\n",
    "import matplotlib.pyplot as plt\n",
    "import numpy as np\n",
    "\n",
    "DATASET_RATIO = 0.57 #pos:neg\n",
    "flank = 7\n",
    "\n",
    "csv_dataset = '/Users/sakshmenon/Desktop/PLM CSV/Window_Vectors_Saksh_Menon_' + str(flank) + '_.csv'\n",
    "dataset = pd.read_csv(csv_dataset)\n",
    "# concentrated_dataset = dataset[dataset['Origin Mutation'] == dataset['AA-Position-AA']]\n",
    "# concentrated_dataset.head()"
   ]
  },
  {
   "cell_type": "code",
   "execution_count": 15,
   "metadata": {},
   "outputs": [
    {
     "data": {
      "text/plain": [
       "(2593, 10)"
      ]
     },
     "execution_count": 15,
     "metadata": {},
     "output_type": "execute_result"
    }
   ],
   "source": [
    "dataset.shape"
   ]
  },
  {
   "cell_type": "code",
   "execution_count": 70,
   "metadata": {},
   "outputs": [
    {
     "data": {
      "text/plain": [
       "'\\n- plots of variant only vs label,\\n- try one of these models:\\n- SVM(RBF)\\n- XGBoost\\n- Ridge\\n- LASSO\\n'"
      ]
     },
     "execution_count": 70,
     "metadata": {},
     "output_type": "execute_result"
    }
   ],
   "source": [
    "\"\"\"\n",
    "- plots of variant only vs label,\n",
    "- try one of these models:\n",
    "- SVM(RBF)\n",
    "- XGBoost\n",
    "- Ridge\n",
    "- LASSO\n",
    "\"\"\""
   ]
  },
  {
   "cell_type": "markdown",
   "metadata": {},
   "source": [
    "#### Training Testing Vector Initializing\n",
    "Without Data Redistributing"
   ]
  },
  {
   "cell_type": "code",
   "execution_count": 30,
   "metadata": {},
   "outputs": [],
   "source": [
    "from sklearn.model_selection import train_test_split\n",
    "from sklearn.metrics import accuracy_score, matthews_corrcoef\n",
    "\n",
    "columns = ['v'+ str(i+1) for i in range(2*flank + 1)]\n",
    "\n",
    "X = dataset[columns]\n",
    "Y = dataset['Label']\n",
    "test_vector_size = 0.2\n",
    "\n",
    "X_train, X_test, Y_train, Y_test = train_test_split(X, Y, test_size = test_vector_size, random_state = 32)"
   ]
  },
  {
   "cell_type": "code",
   "execution_count": 31,
   "metadata": {},
   "outputs": [
    {
     "data": {
      "text/plain": [
       "array([0.98289519, 0.98141402, 0.97152922, 0.97095079, 0.9427711 ,\n",
       "       0.93678875, 0.89752534, 0.55990629, 0.96200681, 0.95152137,\n",
       "       0.97797463, 0.97621225, 0.9946648 , 0.99327239, 0.99606556])"
      ]
     },
     "execution_count": 31,
     "metadata": {},
     "output_type": "execute_result"
    }
   ],
   "source": [
    "(X_test).values[0]"
   ]
  },
  {
   "cell_type": "markdown",
   "metadata": {},
   "source": [
    "\n",
    "## SVC Model Initializing"
   ]
  },
  {
   "cell_type": "code",
   "execution_count": 32,
   "metadata": {},
   "outputs": [
    {
     "name": "stdout",
     "output_type": "stream",
     "text": [
      "Rbf SVM - Training Accuracy: 0.64\n",
      "Rbf SVM - Test Accuracy: 0.63\n",
      "MCC for Test subset: 0.000\n"
     ]
    }
   ],
   "source": [
    "from sklearn.svm import SVC\n",
    "\n",
    "kernels = ['rbf']\n",
    "for kernel in kernels:\n",
    "    svm_model = SVC(kernel=kernel, probability=True, random_state=32)\n",
    "    svm_model.fit(X_train, Y_train)\n",
    "    \n",
    "    train_score = svm_model.score(X_train, Y_train)\n",
    "    test_score = svm_model.score(X_test, Y_test)\n",
    "    print(f'{kernel.capitalize()} SVM - Training Accuracy: {train_score:.2f}')\n",
    "    print(f'{kernel.capitalize()} SVM - Test Accuracy: {test_score:.2f}')\n",
    "    \n",
    "    Y_pred_test = svm_model.predict(X_test)\n",
    "    mcc = matthews_corrcoef(Y_test, Y_pred_test)\n",
    "    print(f\"MCC for Test subset: {mcc:.3f}\")\n",
    "\n"
   ]
  },
  {
   "cell_type": "markdown",
   "metadata": {},
   "source": [
    "\n",
    "## XGBoost Model Initializing"
   ]
  },
  {
   "cell_type": "code",
   "execution_count": 33,
   "metadata": {},
   "outputs": [
    {
     "name": "stdout",
     "output_type": "stream",
     "text": [
      "XGBoost Random Forest - Training Accuracy: 0.74\n",
      "XGBoost Random Forest - Test Accuracy: 0.61\n",
      "XGBoost Random Forest - MCC: -0.017\n",
      "\n",
      "Hyperparameters used in the XGBoost Random Forest model:\n",
      "colsample_bynode: 0.8\n",
      "learning_rate: 1.0\n",
      "reg_lambda: 1e-05\n",
      "subsample: 0.8\n",
      "objective: binary:logistic\n",
      "enable_categorical: False\n",
      "missing: nan\n",
      "random_state: 32\n"
     ]
    }
   ],
   "source": [
    "import xgboost as xgb\n",
    "\n",
    "xgb_model = xgb.XGBRFClassifier(random_state=32)\n",
    "xgb_model.fit(X_train, Y_train)\n",
    "\n",
    "train_score = xgb_model.score(X_train, Y_train)\n",
    "test_score = xgb_model.score(X_test, Y_test)\n",
    "print(f'XGBoost Random Forest - Training Accuracy: {train_score:.2f}')\n",
    "print(f'XGBoost Random Forest - Test Accuracy: {test_score:.2f}')\n",
    "\n",
    "Y_pred_test = xgb_model.predict(X_test)\n",
    "mcc = matthews_corrcoef(Y_test, Y_pred_test)\n",
    "print(f\"XGBoost Random Forest - MCC: {mcc:.3f}\")\n",
    "\n",
    "print(\"\\nHyperparameters used in the XGBoost Random Forest model:\")\n",
    "for param, value in xgb_model.get_params().items():\n",
    "    if value is not None:\n",
    "        print(f'{param}: {value}')\n",
    "    "
   ]
  },
  {
   "cell_type": "markdown",
   "metadata": {},
   "source": [
    "\n",
    "## Ridge Model Initializing"
   ]
  },
  {
   "cell_type": "code",
   "execution_count": 34,
   "metadata": {},
   "outputs": [
    {
     "name": "stdout",
     "output_type": "stream",
     "text": [
      "Ridge Regression - Training Accuracy: 0.64\n",
      "Ridge Regression - Test Accuracy: 0.63\n",
      "Ridge Regression - MCC: 0.000\n"
     ]
    }
   ],
   "source": [
    "from sklearn.linear_model import RidgeClassifier\n",
    "# Initialize the Ridge classifier\n",
    "ridge_model = RidgeClassifier(random_state=123)\n",
    "\n",
    "# Train the Ridge model\n",
    "ridge_model.fit(X_train, Y_train)\n",
    "\n",
    "# Evaluate the model\n",
    "train_score = ridge_model.score(X_train, Y_train)\n",
    "test_score = ridge_model.score(X_test, Y_test)\n",
    "print(f'Ridge Regression - Training Accuracy: {train_score:.2f}')\n",
    "print(f'Ridge Regression - Test Accuracy: {test_score:.2f}')\n",
    "\n",
    "# Calculate Matthews Correlation Coefficient (MCC)\n",
    "Y_pred_test = ridge_model.predict(X_test)\n",
    "mcc = matthews_corrcoef(Y_test, Y_pred_test)\n",
    "print(f\"Ridge Regression - MCC: {mcc:.3f}\")\n"
   ]
  },
  {
   "cell_type": "markdown",
   "metadata": {},
   "source": [
    "\n",
    "## Lasso Model Initializing"
   ]
  },
  {
   "cell_type": "code",
   "execution_count": 35,
   "metadata": {},
   "outputs": [
    {
     "name": "stdout",
     "output_type": "stream",
     "text": [
      "Lasso Regression - Training Accuracy: 0.64\n",
      "Lasso Regression - Test Accuracy: 0.63\n",
      "Lasso Regression - MCC: 0.000\n"
     ]
    }
   ],
   "source": [
    "from sklearn.linear_model import LogisticRegression\n",
    "lasso_model = LogisticRegression(penalty='l1', solver='liblinear', random_state=123)\n",
    "\n",
    "# Train the Lasso model\n",
    "lasso_model.fit(X_train, Y_train)\n",
    "\n",
    "# Evaluate the model\n",
    "train_score = lasso_model.score(X_train, Y_train)\n",
    "test_score = lasso_model.score(X_test, Y_test)\n",
    "print(f'Lasso Regression - Training Accuracy: {train_score:.2f}')\n",
    "print(f'Lasso Regression - Test Accuracy: {test_score:.2f}')\n",
    "\n",
    "# Calculate Matthews Correlation Coefficient (MCC)\n",
    "Y_pred_test = lasso_model.predict(X_test)\n",
    "mcc = matthews_corrcoef(Y_test, Y_pred_test)\n",
    "print(f\"Lasso Regression - MCC: {mcc:.3f}\")\n"
   ]
  },
  {
   "cell_type": "code",
   "execution_count": 13,
   "metadata": {},
   "outputs": [
    {
     "data": {
      "text/plain": [
       "((2074, 3), (2074,))"
      ]
     },
     "execution_count": 13,
     "metadata": {},
     "output_type": "execute_result"
    }
   ],
   "source": [
    "X_train.shape, Y_train.shape"
   ]
  }
 ],
 "metadata": {
  "kernelspec": {
   "display_name": "Python 3",
   "language": "python",
   "name": "python3"
  },
  "language_info": {
   "codemirror_mode": {
    "name": "ipython",
    "version": 3
   },
   "file_extension": ".py",
   "mimetype": "text/x-python",
   "name": "python",
   "nbconvert_exporter": "python",
   "pygments_lexer": "ipython3",
   "version": "3.11.9"
  }
 },
 "nbformat": 4,
 "nbformat_minor": 2
}
